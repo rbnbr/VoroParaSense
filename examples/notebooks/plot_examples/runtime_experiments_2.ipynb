{
 "cells": [
  {
   "cell_type": "code",
   "execution_count": 1,
   "metadata": {},
   "outputs": [],
   "source": [
    "# Import necessary libraries\n",
    "import sys\n",
    "sys.path.extend([\"../../../\"])\n",
    "from src.para_voro import *\n",
    "from src.para_voro_plots import *\n",
    "\n",
    "np.random.seed(0)"
   ]
  },
  {
   "cell_type": "code",
   "execution_count": 2,
   "metadata": {},
   "outputs": [],
   "source": [
    "import time\n",
    "\n",
    "def runtime_experiments(dim: int, n_samples: int, n_samples_per_dim = 30, repeat: int = 10) -> tuple:\n",
    "    timings_vor = []\n",
    "    timings_ridges_and_clipping = []\n",
    "    timings_sens_matrix = []\n",
    "\n",
    "    for _ in range(repeat):\n",
    "        np.random.seed(0)\n",
    "\n",
    "        df = pd.DataFrame(data=np.random.random((n_samples, dim)))\n",
    "        # remove the \"Iris-\" from class\n",
    "        df = df.assign(**{\"class\": pd.Series([f\"{v}\" for v in (np.random.random((n_samples, )) > 0.5).astype(int)]).values})\n",
    "\n",
    "        normalize_samples = True\n",
    "\n",
    "        discrete_values_mapping = create_discrete_values_mapping(df)\n",
    "\n",
    "        discrete_dims = {\n",
    "            dim: col_name\n",
    "            for dim, col_name in enumerate(df.columns[:-1]) if df[col_name].dtype == object\n",
    "        }\n",
    "\n",
    "        labels_names = df.values[:, -1]\n",
    "\n",
    "        df_ = apply_discrete_values_mapping(df[df.columns[:-1]], discrete_values_mapping)\n",
    "\n",
    "        samples = df_.values\n",
    "        dim_labels = df_.columns.to_list()\n",
    "\n",
    "        label_names, uq_idx, l_inv = np.unique(labels_names, return_index=True, return_inverse=True)\n",
    "        labels = l_inv  # the label we use for computations are integers, while the label names may be strings / ints, floats / objects\n",
    "\n",
    "        dim_colors = np.array(plt.color_sequences.get(\"Accent\"))[:len(dim_labels)]\n",
    "\n",
    "        if normalize_samples:\n",
    "            # normalize samples  # TODO: should rather be [-0.5, 0.5] than [0.0., 1.0]\n",
    "            mins = np.min(samples, 0)\n",
    "            maxs = np.max(samples, 0)\n",
    "\n",
    "            samples = (samples - mins) / (maxs - mins)\n",
    "\n",
    "        # create discrete_dimension_ticks_and_labels mapping\n",
    "        discrete_dimension_ticks_and_labels = {}\n",
    "        for dim in discrete_dims:\n",
    "            col_name = discrete_dims[dim]\n",
    "\n",
    "            m = discrete_values_mapping[col_name]\n",
    "            reverse_mapping = {v: k for k, v in m.items()}\n",
    "\n",
    "            tick_values = np.linspace(0, 1.0 if normalize_samples else len(m) - 1, len(m))\n",
    "            tick_labels = [reverse_mapping[idx] for idx in range(len(m))]\n",
    "\n",
    "            discrete_dimension_ticks_and_labels[dim] = (tick_values, tick_labels)\n",
    "\n",
    "        t = time.time()\n",
    "        vor = Voronoi(samples)\n",
    "        timings_vor.append(time.time() - t)\n",
    "\n",
    "        aabbox = np.vstack([np.min(samples, 0), np.max(samples, 0)]).T\n",
    "\n",
    "        t = time.time()\n",
    "        generate_geometric_segment_boundaries_via_voronoi_result = generate_geometric_segment_boundaries_via_voronoi(samples, labels, aabbox, clip_convex_hull=True, vor=vor, return_original_ridge_point_indices=True, verbose=False)\n",
    "        ridge_vertices, ridge_point_indices = generate_geometric_segment_boundaries_via_voronoi_result\n",
    "\n",
    "        M_T = build_directed_ridge_vertices_selector_matrix(samples, labels, ridge_point_indices)\n",
    "\n",
    "        timings_ridges_and_clipping.append(time.time() - t)\n",
    "\n",
    "        t = time.time()\n",
    "\n",
    "        step_size = None  # if none, it will be set equal to bandwidth (--> non-overlapping bins)\n",
    "        bandwidths = (aabbox[:, 1] - aabbox[:, 0]) / n_samples_per_dim\n",
    "        sample_points_min_max = compute_sample_points(clip_box=aabbox, bandwidths=bandwidths, step_size=step_size)\n",
    "\n",
    "        n_proc = None  # single-core\n",
    "\n",
    "        ridge_based_para_sense_preparations_result = ridge_based_para_sense_preparations(ridge_vertices=ridge_vertices,\n",
    "                                                                                             bandwidths=bandwidths,\n",
    "                                                                                             clip_box=aabbox,\n",
    "                                                                                             step_size=step_size,\n",
    "                                                                                             sample_points_min_max=sample_points_min_max,\n",
    "                                                                                             verbose=False)\n",
    "        build_directed_transition_cubes_result = build_directed_transition_cubes(M_T, ridge_vertices, sample_points_min_max=sample_points_min_max, \n",
    "                                                         ridge_based_para_sense_preparations_result=ridge_based_para_sense_preparations_result,\n",
    "                                                         bandwidths=bandwidths, clip_box=aabbox, step_size=step_size, n_proc=n_proc, verbose=False)\n",
    "\n",
    "        _, dtc_ret = build_directed_transition_cubes_result\n",
    "        sens_matrix_list = [d[0] for d in dtc_ret]\n",
    "        n_ridge_matrix_list = [d[1] for d in dtc_ret]\n",
    "\n",
    "        timings_sens_matrix.append(time.time() - t)\n",
    "    \n",
    "    for s, t in zip([\"vor\", \"ridge\", \"sens\"], [timings_vor, timings_ridges_and_clipping, timings_sens_matrix]):\n",
    "        print(f\"dim: {dim}, n_samples: {n_samples}, repeat: {repeat}; type: {s}, average: {np.average(t)}, std: {np.std(t)}, median: {np.median(t)}\")\n",
    "    \n",
    "    return np.stack([timings_vor, timings_ridges_and_clipping, timings_sens_matrix]).T\n",
    "    \n"
   ]
  },
  {
   "cell_type": "code",
   "execution_count": 3,
   "metadata": {},
   "outputs": [
    {
     "name": "stderr",
     "output_type": "stream",
     "text": [
      "c:\\Users\\bauerrn\\Projekte\\VoroParaSense\\examples\\notebooks\\plot_examples\\../../..\\src\\para_voro.py:295: NumbaPerformanceWarning: \u001b[1m\u001b[1m'@' is faster on contiguous arrays, called on (Array(float64, 1, 'A', False, aligned=True), Array(float64, 1, 'A', False, aligned=True))\u001b[0m\u001b[0m\n",
      "  d_ = point @ eq[:-1] + eq[-1]\n",
      "c:\\Users\\bauerrn\\Projekte\\VoroParaSense\\examples\\notebooks\\plot_examples\\../../..\\src\\para_voro.py:334: NumbaPerformanceWarning: \u001b[1m\u001b[1mnp.dot() is faster on contiguous arrays, called on (Array(float64, 1, 'C', False, aligned=True), Array(float64, 1, 'A', False, aligned=True))\u001b[0m\u001b[0m\n",
      "  d = np.dot(points[i], ridge_halfspace_definition[:-1]) + ridge_halfspace_definition[-1]\n"
     ]
    },
    {
     "name": "stdout",
     "output_type": "stream",
     "text": [
      "dim: 3, n_samples: 32, repeat: 2; type: vor, average: 0.0014865398406982422, std: 0.00048542022705078125, median: 0.0014865398406982422\n",
      "dim: 3, n_samples: 32, repeat: 2; type: ridge, average: 4.191247940063477, std: 4.155245065689087, median: 4.191247940063477\n",
      "dim: 3, n_samples: 32, repeat: 2; type: sens, average: 7.011904716491699, std: 4.0667901039123535, median: 7.011904716491699\n"
     ]
    }
   ],
   "source": [
    "_ = runtime_experiments(3, 32, repeat=2)"
   ]
  },
  {
   "cell_type": "code",
   "execution_count": 16,
   "metadata": {},
   "outputs": [
    {
     "name": "stdout",
     "output_type": "stream",
     "text": [
      "dim: 2, n_samples: 64, repeat: 3; type: vor, average: 0.0010013580322265625, std: 3.573628609326222e-06, median: 0.00099945068359375\n",
      "dim: 2, n_samples: 64, repeat: 3; type: ridge, average: 0.028992970784505207, std: 0.0024595432903155943, median: 0.029003381729125977\n",
      "dim: 2, n_samples: 64, repeat: 3; type: sens, average: 0.028992970784505207, std: 0.0024595432903155943, median: 0.029003381729125977\n",
      "dim: 2, n_samples: 256, repeat: 3; type: vor, average: 0.002341190973917643, std: 0.00048171041991494623, median: 0.0020008087158203125\n",
      "dim: 2, n_samples: 256, repeat: 3; type: ridge, average: 0.06731327374776204, std: 0.00048362495560078534, median: 0.06697368621826172\n",
      "dim: 2, n_samples: 256, repeat: 3; type: sens, average: 0.06731327374776204, std: 0.00048362495560078534, median: 0.06697368621826172\n",
      "dim: 2, n_samples: 1048, repeat: 3; type: vor, average: 0.006644090016682942, std: 0.00048109593882211327, median: 0.006974935531616211\n",
      "dim: 2, n_samples: 1048, repeat: 3; type: ridge, average: 0.15433128674825033, std: 0.0009407738595963343, median: 0.15499639511108398\n",
      "dim: 2, n_samples: 1048, repeat: 3; type: sens, average: 0.15433128674825033, std: 0.0009407738595963343, median: 0.15499639511108398\n",
      "dim: 2, n_samples: 4096, repeat: 3; type: vor, average: 0.023959636688232422, std: 0.001645401162402277, median: 0.02304530143737793\n",
      "dim: 2, n_samples: 4096, repeat: 3; type: ridge, average: 0.45255176226298016, std: 0.010086700394443126, median: 0.44699668884277344\n",
      "dim: 2, n_samples: 4096, repeat: 3; type: sens, average: 0.45255176226298016, std: 0.010086700394443126, median: 0.44699668884277344\n",
      "dim: 3, n_samples: 64, repeat: 3; type: vor, average: 0.0023330052693684897, std: 0.00047063981843656897, median: 0.0020003318786621094\n",
      "dim: 3, n_samples: 64, repeat: 3; type: ridge, average: 0.0743118127187093, std: 0.008169729811278795, median: 0.07793545722961426\n",
      "dim: 3, n_samples: 64, repeat: 3; type: sens, average: 0.0743118127187093, std: 0.008169729811278795, median: 0.07793545722961426\n",
      "dim: 3, n_samples: 256, repeat: 3; type: vor, average: 0.005999088287353516, std: 1.9466795466607238e-07, median: 0.005999088287353516\n",
      "dim: 3, n_samples: 256, repeat: 3; type: ridge, average: 0.2822025616963704, std: 0.018964654269369257, median: 0.27063441276550293\n",
      "dim: 3, n_samples: 256, repeat: 3; type: sens, average: 0.2822025616963704, std: 0.018964654269369257, median: 0.27063441276550293\n",
      "dim: 3, n_samples: 1048, repeat: 3; type: vor, average: 0.02466559410095215, std: 0.001884132806339627, median: 0.025997161865234375\n",
      "dim: 3, n_samples: 1048, repeat: 3; type: ridge, average: 0.9969638188680013, std: 0.051732811477271594, median: 0.9621453285217285\n",
      "dim: 3, n_samples: 1048, repeat: 3; type: sens, average: 0.9969638188680013, std: 0.051732811477271594, median: 0.9621453285217285\n",
      "dim: 3, n_samples: 4096, repeat: 3; type: vor, average: 0.11533888181050618, std: 0.007379816239774071, median: 0.11897134780883789\n",
      "dim: 3, n_samples: 4096, repeat: 3; type: ridge, average: 3.699735403060913, std: 0.3936655970531922, median: 3.5390360355377197\n",
      "dim: 3, n_samples: 4096, repeat: 3; type: sens, average: 3.699735403060913, std: 0.3936655970531922, median: 3.5390360355377197\n",
      "dim: 4, n_samples: 64, repeat: 3; type: vor, average: 0.005332549413045247, std: 0.0004721571350483414, median: 0.004998922348022461\n",
      "dim: 4, n_samples: 64, repeat: 3; type: ridge, average: 0.2020078500111898, std: 0.0008135565186090093, median: 0.2019965648651123\n",
      "dim: 4, n_samples: 64, repeat: 3; type: sens, average: 0.2020078500111898, std: 0.0008135565186090093, median: 0.2019965648651123\n",
      "dim: 4, n_samples: 256, repeat: 3; type: vor, average: 0.04433846473693848, std: 0.012495307407150918, median: 0.03601479530334473\n",
      "dim: 4, n_samples: 256, repeat: 3; type: ridge, average: 1.6408958435058594, std: 0.18216773925465382, median: 1.555020809173584\n",
      "dim: 4, n_samples: 256, repeat: 3; type: sens, average: 1.6408958435058594, std: 0.18216773925465382, median: 1.555020809173584\n",
      "dim: 4, n_samples: 1048, repeat: 3; type: vor, average: 0.23388195037841797, std: 0.028929073328324003, median: 0.2539970874786377\n",
      "dim: 4, n_samples: 1048, repeat: 3; type: ridge, average: 11.579785426457724, std: 0.1456468529413891, median: 11.64380145072937\n",
      "dim: 4, n_samples: 1048, repeat: 3; type: sens, average: 11.579785426457724, std: 0.1456468529413891, median: 11.64380145072937\n"
     ]
    },
    {
     "ename": "TypeError",
     "evalue": "remove: path should be string, bytes or os.PathLike, not NoneType",
     "output_type": "error",
     "traceback": [
      "\u001b[1;31m---------------------------------------------------------------------------\u001b[0m",
      "\u001b[1;31mTypeError\u001b[0m                                 Traceback (most recent call last)",
      "File \u001b[1;32mmessagestream.pyx:91\u001b[0m, in \u001b[0;36mscipy._lib.messagestream.MessageStream.close\u001b[1;34m()\u001b[0m\n",
      "\u001b[1;31mTypeError\u001b[0m: remove: path should be string, bytes or os.PathLike, not NoneType"
     ]
    },
    {
     "name": "stderr",
     "output_type": "stream",
     "text": [
      "Exception ignored in: 'scipy._lib.messagestream.MessageStream.__dealloc__'\n",
      "Traceback (most recent call last):\n",
      "  File \"messagestream.pyx\", line 91, in scipy._lib.messagestream.MessageStream.close\n",
      "TypeError: remove: path should be string, bytes or os.PathLike, not NoneType\n"
     ]
    },
    {
     "ename": "KeyboardInterrupt",
     "evalue": "",
     "output_type": "error",
     "traceback": [
      "\u001b[1;31m---------------------------------------------------------------------------\u001b[0m",
      "\u001b[1;31mKeyboardInterrupt\u001b[0m                         Traceback (most recent call last)",
      "Cell \u001b[1;32mIn[16], line 6\u001b[0m\n\u001b[0;32m      4\u001b[0m \u001b[38;5;28;01mfor\u001b[39;00m dims \u001b[38;5;129;01min\u001b[39;00m [\u001b[38;5;241m2\u001b[39m, \u001b[38;5;241m3\u001b[39m, \u001b[38;5;241m4\u001b[39m]: \u001b[38;5;66;03m# , 5, 6, 7, 8]:\u001b[39;00m\n\u001b[0;32m      5\u001b[0m     \u001b[38;5;28;01mfor\u001b[39;00m n_samples \u001b[38;5;129;01min\u001b[39;00m [\u001b[38;5;241m64\u001b[39m, \u001b[38;5;241m256\u001b[39m, \u001b[38;5;241m1048\u001b[39m, \u001b[38;5;241m4096\u001b[39m]:\n\u001b[1;32m----> 6\u001b[0m         res_ \u001b[38;5;241m=\u001b[39m \u001b[43mruntime_experiments\u001b[49m\u001b[43m(\u001b[49m\u001b[43mdims\u001b[49m\u001b[43m,\u001b[49m\u001b[43m \u001b[49m\u001b[43mn_samples\u001b[49m\u001b[43m,\u001b[49m\u001b[43m \u001b[49m\u001b[43mrepeat\u001b[49m\u001b[38;5;241;43m=\u001b[39;49m\u001b[38;5;241;43m3\u001b[39;49m\u001b[43m)\u001b[49m\n\u001b[0;32m      7\u001b[0m         res\u001b[38;5;241m.\u001b[39mappend((dims, n_samples, res_))\n",
      "Cell \u001b[1;32mIn[14], line 85\u001b[0m, in \u001b[0;36mruntime_experiments\u001b[1;34m(dim, n_samples, repeat)\u001b[0m\n\u001b[0;32m     77\u001b[0m n_proc \u001b[38;5;241m=\u001b[39m \u001b[38;5;28;01mNone\u001b[39;00m  \u001b[38;5;66;03m# single-core\u001b[39;00m\n\u001b[0;32m     79\u001b[0m ridge_based_para_sense_preparations_result \u001b[38;5;241m=\u001b[39m ridge_based_para_sense_preparations(ridge_vertices\u001b[38;5;241m=\u001b[39mridge_vertices,\n\u001b[0;32m     80\u001b[0m                                                                                      bandwidths\u001b[38;5;241m=\u001b[39mbandwidths,\n\u001b[0;32m     81\u001b[0m                                                                                      clip_box\u001b[38;5;241m=\u001b[39maabbox,\n\u001b[0;32m     82\u001b[0m                                                                                      step_size\u001b[38;5;241m=\u001b[39mstep_size,\n\u001b[0;32m     83\u001b[0m                                                                                      sample_points_min_max\u001b[38;5;241m=\u001b[39msample_points_min_max,\n\u001b[0;32m     84\u001b[0m                                                                                      verbose\u001b[38;5;241m=\u001b[39m\u001b[38;5;28;01mFalse\u001b[39;00m)\n\u001b[1;32m---> 85\u001b[0m build_directed_transition_cubes_result \u001b[38;5;241m=\u001b[39m \u001b[43mbuild_directed_transition_cubes\u001b[49m\u001b[43m(\u001b[49m\u001b[43mM_T\u001b[49m\u001b[43m,\u001b[49m\u001b[43m \u001b[49m\u001b[43mridge_vertices\u001b[49m\u001b[43m,\u001b[49m\u001b[43m \u001b[49m\u001b[43msample_points_min_max\u001b[49m\u001b[38;5;241;43m=\u001b[39;49m\u001b[43msample_points_min_max\u001b[49m\u001b[43m,\u001b[49m\u001b[43m \u001b[49m\n\u001b[0;32m     86\u001b[0m \u001b[43m                                                 \u001b[49m\u001b[43mridge_based_para_sense_preparations_result\u001b[49m\u001b[38;5;241;43m=\u001b[39;49m\u001b[43mridge_based_para_sense_preparations_result\u001b[49m\u001b[43m,\u001b[49m\n\u001b[0;32m     87\u001b[0m \u001b[43m                                                 \u001b[49m\u001b[43mbandwidths\u001b[49m\u001b[38;5;241;43m=\u001b[39;49m\u001b[43mbandwidths\u001b[49m\u001b[43m,\u001b[49m\u001b[43m \u001b[49m\u001b[43mclip_box\u001b[49m\u001b[38;5;241;43m=\u001b[39;49m\u001b[43maabbox\u001b[49m\u001b[43m,\u001b[49m\u001b[43m \u001b[49m\u001b[43mstep_size\u001b[49m\u001b[38;5;241;43m=\u001b[39;49m\u001b[43mstep_size\u001b[49m\u001b[43m,\u001b[49m\u001b[43m \u001b[49m\u001b[43mn_proc\u001b[49m\u001b[38;5;241;43m=\u001b[39;49m\u001b[43mn_proc\u001b[49m\u001b[43m,\u001b[49m\u001b[43m \u001b[49m\u001b[43mverbose\u001b[49m\u001b[38;5;241;43m=\u001b[39;49m\u001b[38;5;28;43;01mFalse\u001b[39;49;00m\u001b[43m)\u001b[49m\n\u001b[0;32m     89\u001b[0m _, dtc_ret \u001b[38;5;241m=\u001b[39m build_directed_transition_cubes_result\n\u001b[0;32m     90\u001b[0m sens_matrix_list \u001b[38;5;241m=\u001b[39m [d[\u001b[38;5;241m0\u001b[39m] \u001b[38;5;28;01mfor\u001b[39;00m d \u001b[38;5;129;01min\u001b[39;00m dtc_ret]\n",
      "File \u001b[1;32mc:\\Users\\bauerrn\\Projekte\\VoroParaSense\\examples\\notebooks\\plot_examples\\../../..\\src\\para_voro.py:2004\u001b[0m, in \u001b[0;36mbuild_directed_transition_cubes\u001b[1;34m(selector_matrix, ridge_vertices, bandwidths, clip_box, step_size, sample_points_min_max, ridge_based_para_sense_preparations_result, n_proc, verbose)\u001b[0m\n\u001b[0;32m   1997\u001b[0m     sensitivities, n_ridges \u001b[38;5;241m=\u001b[39m compute_ridge_based_transitions_2d_for_one_dim(dim\u001b[38;5;241m=\u001b[39mdim, \n\u001b[0;32m   1998\u001b[0m                                              ridge_vertices\u001b[38;5;241m=\u001b[39mridge_vertices,\n\u001b[0;32m   1999\u001b[0m                                              okays\u001b[38;5;241m=\u001b[39mokays_,\n\u001b[0;32m   2000\u001b[0m                                              return_n_ridges\u001b[38;5;241m=\u001b[39m\u001b[38;5;28;01mTrue\u001b[39;00m,\n\u001b[0;32m   2001\u001b[0m                                              sample_points_min_dim\u001b[38;5;241m=\u001b[39msample_points_min_dim,\n\u001b[0;32m   2002\u001b[0m                                              sample_points_max_dim\u001b[38;5;241m=\u001b[39msample_points_max_dim)\n\u001b[0;32m   2003\u001b[0m \u001b[38;5;28;01melse\u001b[39;00m:\n\u001b[1;32m-> 2004\u001b[0m     sensitivities, n_ridges \u001b[38;5;241m=\u001b[39m \u001b[43mcompute_ridge_based_transitions_for_one_dimension_of_nd\u001b[49m\u001b[43m(\u001b[49m\u001b[43mdim\u001b[49m\u001b[38;5;241;43m=\u001b[39;49m\u001b[43mdim\u001b[49m\u001b[43m,\u001b[49m\u001b[43m \u001b[49m\n\u001b[0;32m   2005\u001b[0m \u001b[43m                                                        \u001b[49m\u001b[43mN\u001b[49m\u001b[38;5;241;43m=\u001b[39;49m\u001b[43mN\u001b[49m\u001b[43m,\u001b[49m\n\u001b[0;32m   2006\u001b[0m \u001b[43m                                                        \u001b[49m\u001b[43mokays\u001b[49m\u001b[38;5;241;43m=\u001b[39;49m\u001b[43mokays_\u001b[49m\u001b[43m,\u001b[49m\u001b[43m \u001b[49m\n\u001b[0;32m   2007\u001b[0m \u001b[43m                                                        \u001b[49m\u001b[43mridge_vertices\u001b[49m\u001b[38;5;241;43m=\u001b[39;49m\u001b[43mridge_vertices\u001b[49m\u001b[43m,\u001b[49m\n\u001b[0;32m   2008\u001b[0m \u001b[43m                                                        \u001b[49m\u001b[43mVhs\u001b[49m\u001b[38;5;241;43m=\u001b[39;49m\u001b[43mVhs\u001b[49m\u001b[43m,\u001b[49m\n\u001b[0;32m   2009\u001b[0m \u001b[43m                                                        \u001b[49m\u001b[43mnormals\u001b[49m\u001b[38;5;241;43m=\u001b[39;49m\u001b[43mnormals\u001b[49m\u001b[43m,\u001b[49m\n\u001b[0;32m   2010\u001b[0m \u001b[43m                                                        \u001b[49m\u001b[43moffsets\u001b[49m\u001b[38;5;241;43m=\u001b[39;49m\u001b[43moffsets\u001b[49m\u001b[43m,\u001b[49m\n\u001b[0;32m   2011\u001b[0m \u001b[43m                                                        \u001b[49m\u001b[43md_s\u001b[49m\u001b[38;5;241;43m=\u001b[39;49m\u001b[43md_s\u001b[49m\u001b[43m,\u001b[49m\n\u001b[0;32m   2012\u001b[0m \u001b[43m                                                        \u001b[49m\u001b[43mlower_dim_convex_hull_equations\u001b[49m\u001b[38;5;241;43m=\u001b[39;49m\u001b[43mlower_dim_convex_hull_equations\u001b[49m\u001b[43m,\u001b[49m\n\u001b[0;32m   2013\u001b[0m \u001b[43m                                                        \u001b[49m\u001b[43msample_points_min_dim\u001b[49m\u001b[38;5;241;43m=\u001b[39;49m\u001b[43msample_points_min_dim\u001b[49m\u001b[43m,\u001b[49m\n\u001b[0;32m   2014\u001b[0m \u001b[43m                                                        \u001b[49m\u001b[43msample_points_max_dim\u001b[49m\u001b[38;5;241;43m=\u001b[39;49m\u001b[43msample_points_max_dim\u001b[49m\u001b[43m,\u001b[49m\n\u001b[0;32m   2015\u001b[0m \u001b[43m                                                        \u001b[49m\u001b[43mreturn_n_ridges\u001b[49m\u001b[38;5;241;43m=\u001b[39;49m\u001b[38;5;28;43;01mTrue\u001b[39;49;00m\u001b[43m,\u001b[49m\n\u001b[0;32m   2016\u001b[0m \u001b[43m                                                        \u001b[49m\u001b[43mdim_accessor\u001b[49m\u001b[38;5;241;43m=\u001b[39;49m\u001b[43mda\u001b[49m\u001b[43m,\u001b[49m\n\u001b[0;32m   2017\u001b[0m \u001b[43m                                                        \u001b[49m\u001b[38;5;66;43;03m# pf=pf\u001b[39;49;00m\n\u001b[0;32m   2018\u001b[0m \u001b[43m                                                        \u001b[49m\u001b[43m)\u001b[49m\n\u001b[0;32m   2020\u001b[0m M[label_idx_a, label_idx_b] \u001b[38;5;241m=\u001b[39m sensitivities\n\u001b[0;32m   2021\u001b[0m R[label_idx_a, label_idx_b] \u001b[38;5;241m=\u001b[39m n_ridges\n",
      "File \u001b[1;32mc:\\Users\\bauerrn\\Projekte\\VoroParaSense\\examples\\notebooks\\plot_examples\\../../..\\src\\para_voro.py:1324\u001b[0m, in \u001b[0;36mcompute_ridge_based_transitions_for_one_dimension_of_nd\u001b[1;34m(dim, N, okays, ridge_vertices, Vhs, normals, offsets, d_s, lower_dim_convex_hull_equations, sample_points_min_dim, sample_points_max_dim, dim_accessor, return_n_ridges, pf)\u001b[0m\n\u001b[0;32m   1321\u001b[0m rv \u001b[38;5;241m=\u001b[39m relevant_ridge_vertices[i]\n\u001b[0;32m   1322\u001b[0m rds \u001b[38;5;241m=\u001b[39m relevant_d_s[i]\n\u001b[1;32m-> 1324\u001b[0m volume, skip \u001b[38;5;241m=\u001b[39m \u001b[43m_compute_ridge_volume\u001b[49m\u001b[43m(\u001b[49m\u001b[43mrv\u001b[49m\u001b[38;5;241;43m=\u001b[39;49m\u001b[43mrv\u001b[49m\u001b[43m,\u001b[49m\u001b[43m \u001b[49m\u001b[43mlower_hs\u001b[49m\u001b[38;5;241;43m=\u001b[39;49m\u001b[43mlower_hs\u001b[49m\u001b[43m,\u001b[49m\u001b[43m \u001b[49m\u001b[43mvh\u001b[49m\u001b[38;5;241;43m=\u001b[39;49m\u001b[43mvh\u001b[49m\u001b[43m,\u001b[49m\u001b[43m \u001b[49m\u001b[43mo\u001b[49m\u001b[38;5;241;43m=\u001b[39;49m\u001b[43mo\u001b[49m\u001b[43m,\u001b[49m\u001b[43m \u001b[49m\u001b[43mrds\u001b[49m\u001b[38;5;241;43m=\u001b[39;49m\u001b[43mrds\u001b[49m\u001b[43m,\u001b[49m\n\u001b[0;32m   1325\u001b[0m \u001b[43m                                     \u001b[49m\u001b[43mn\u001b[49m\u001b[38;5;241;43m=\u001b[39;49m\u001b[43mn\u001b[49m\u001b[43m,\u001b[49m\u001b[43m \u001b[49m\u001b[43mdim\u001b[49m\u001b[38;5;241;43m=\u001b[39;49m\u001b[43mdim\u001b[49m\u001b[43m,\u001b[49m\u001b[43m \u001b[49m\u001b[43msample_points_min_value\u001b[49m\u001b[38;5;241;43m=\u001b[39;49m\u001b[43msample_points_min_value\u001b[49m\u001b[43m,\u001b[49m\n\u001b[0;32m   1326\u001b[0m \u001b[43m                                     \u001b[49m\u001b[43msample_points_max_value\u001b[49m\u001b[38;5;241;43m=\u001b[39;49m\u001b[43msample_points_max_value\u001b[49m\u001b[43m,\u001b[49m\n\u001b[0;32m   1327\u001b[0m \u001b[43m                                     \u001b[49m\u001b[43mch_equations\u001b[49m\u001b[38;5;241;43m=\u001b[39;49m\u001b[43mch_equations\u001b[49m\u001b[43m,\u001b[49m\u001b[43m \u001b[49m\u001b[43mdim_accessor\u001b[49m\u001b[38;5;241;43m=\u001b[39;49m\u001b[43mdim_accessor\u001b[49m\u001b[43m,\u001b[49m\n\u001b[0;32m   1328\u001b[0m \u001b[43m                                     \u001b[49m\u001b[43m_debug_skipped_ridges_reasons\u001b[49m\u001b[38;5;241;43m=\u001b[39;49m\u001b[43m_debug_skipped_ridges_reasons\u001b[49m\u001b[43m,\u001b[49m\n\u001b[0;32m   1329\u001b[0m \u001b[43m                                     \u001b[49m\u001b[43mpf\u001b[49m\u001b[38;5;241;43m=\u001b[39;49m\u001b[43mpf\u001b[49m\u001b[43m)\u001b[49m\n\u001b[0;32m   1330\u001b[0m \u001b[38;5;28;01mif\u001b[39;00m skip:\n\u001b[0;32m   1331\u001b[0m     \u001b[38;5;28;01mcontinue\u001b[39;00m\n",
      "File \u001b[1;32mc:\\Users\\bauerrn\\Projekte\\VoroParaSense\\examples\\notebooks\\plot_examples\\../../..\\src\\para_voro.py:1201\u001b[0m, in \u001b[0;36m_compute_ridge_volume\u001b[1;34m(rv, lower_hs, vh, o, rds, n, dim, sample_points_min_value, sample_points_max_value, ch_equations, dim_accessor, _debug_skipped_ridges_reasons, pf)\u001b[0m\n\u001b[0;32m   1199\u001b[0m warnings\u001b[38;5;241m.\u001b[39mfilterwarnings(\u001b[38;5;124m'\u001b[39m\u001b[38;5;124merror\u001b[39m\u001b[38;5;124m'\u001b[39m)\n\u001b[0;32m   1200\u001b[0m \u001b[38;5;28;01mtry\u001b[39;00m:\n\u001b[1;32m-> 1201\u001b[0m     clipped_lower_dim_halfspaces \u001b[38;5;241m=\u001b[39m \u001b[43mHalfspaceIntersection\u001b[49m\u001b[43m(\u001b[49m\u001b[43mnew_lower_dim_halfspaces\u001b[49m\u001b[43m,\u001b[49m\u001b[43m \u001b[49m\u001b[43mlower_dim_interior_points\u001b[49m\u001b[43m)\u001b[49m\n\u001b[0;32m   1202\u001b[0m \u001b[38;5;28;01mexcept\u001b[39;00m QhullError \u001b[38;5;28;01mas\u001b[39;00m e:\n\u001b[0;32m   1203\u001b[0m     \u001b[38;5;28;01mif\u001b[39;00m \u001b[38;5;28mstr\u001b[39m(e)\u001b[38;5;241m.\u001b[39mstartswith(\u001b[38;5;124m\"\u001b[39m\u001b[38;5;124mQH6154\u001b[39m\u001b[38;5;124m\"\u001b[39m) \u001b[38;5;129;01mor\u001b[39;00m \u001b[38;5;28mstr\u001b[39m(e)\u001b[38;5;241m.\u001b[39mstartswith(\u001b[38;5;124m\"\u001b[39m\u001b[38;5;124mQH6271\u001b[39m\u001b[38;5;124m\"\u001b[39m) \u001b[38;5;129;01mor\u001b[39;00m \u001b[38;5;28mstr\u001b[39m(e)\u001b[38;5;241m.\u001b[39mstartswith(\u001b[38;5;124m\"\u001b[39m\u001b[38;5;124mQH6297\u001b[39m\u001b[38;5;124m\"\u001b[39m) \\\n\u001b[0;32m   1204\u001b[0m         \u001b[38;5;129;01mor\u001b[39;00m \u001b[38;5;28mstr\u001b[39m(e)\u001b[38;5;241m.\u001b[39mstartswith(\u001b[38;5;124m\"\u001b[39m\u001b[38;5;124mQH7086\u001b[39m\u001b[38;5;124m\"\u001b[39m) \u001b[38;5;129;01mor\u001b[39;00m \u001b[38;5;28mstr\u001b[39m(e)\u001b[38;5;241m.\u001b[39mstartswith(\u001b[38;5;124m\"\u001b[39m\u001b[38;5;124mQH6347\u001b[39m\u001b[38;5;124m\"\u001b[39m) \u001b[38;5;129;01mor\u001b[39;00m \u001b[38;5;28mstr\u001b[39m(e)\u001b[38;5;241m.\u001b[39mstartswith(\u001b[38;5;124m\"\u001b[39m\u001b[38;5;124mQH6348\u001b[39m\u001b[38;5;124m\"\u001b[39m):\n\u001b[0;32m   1205\u001b[0m         \u001b[38;5;66;03m# QH6154 Qhull precision error: Initial simplex is flat (facet 1 is coplanar with the interior point)\u001b[39;00m\n\u001b[1;32m   (...)\u001b[0m\n\u001b[0;32m   1208\u001b[0m         \u001b[38;5;66;03m# QH7086 Qhull precision warning: repartition coplanar point\u001b[39;00m\n\u001b[0;32m   1209\u001b[0m         \u001b[38;5;66;03m# QhullError: QH6347 qhull precision error (qh_mergefacet): wide merge for facet ..\u001b[39;00m\n",
      "File \u001b[1;32m_qhull.pyx:2876\u001b[0m, in \u001b[0;36mscipy.spatial._qhull.HalfspaceIntersection.__init__\u001b[1;34m()\u001b[0m\n",
      "File \u001b[1;32m_qhull.pyx:267\u001b[0m, in \u001b[0;36mscipy.spatial._qhull._Qhull.__init__\u001b[1;34m()\u001b[0m\n",
      "File \u001b[1;32mmessagestream.pyx:29\u001b[0m, in \u001b[0;36mscipy._lib.messagestream.MessageStream.__cinit__\u001b[1;34m()\u001b[0m\n",
      "File \u001b[1;32m~\\AppData\\Local\\Programs\\Python\\Python312\\Lib\\tempfile.py:357\u001b[0m, in \u001b[0;36mmkstemp\u001b[1;34m(suffix, prefix, dir, text)\u001b[0m\n\u001b[0;32m    354\u001b[0m \u001b[38;5;28;01melse\u001b[39;00m:\n\u001b[0;32m    355\u001b[0m     flags \u001b[38;5;241m=\u001b[39m _bin_openflags\n\u001b[1;32m--> 357\u001b[0m \u001b[38;5;28;01mreturn\u001b[39;00m \u001b[43m_mkstemp_inner\u001b[49m\u001b[43m(\u001b[49m\u001b[38;5;28;43mdir\u001b[39;49m\u001b[43m,\u001b[49m\u001b[43m \u001b[49m\u001b[43mprefix\u001b[49m\u001b[43m,\u001b[49m\u001b[43m \u001b[49m\u001b[43msuffix\u001b[49m\u001b[43m,\u001b[49m\u001b[43m \u001b[49m\u001b[43mflags\u001b[49m\u001b[43m,\u001b[49m\u001b[43m \u001b[49m\u001b[43moutput_type\u001b[49m\u001b[43m)\u001b[49m\n",
      "File \u001b[1;32m~\\AppData\\Local\\Programs\\Python\\Python312\\Lib\\tempfile.py:256\u001b[0m, in \u001b[0;36m_mkstemp_inner\u001b[1;34m(dir, pre, suf, flags, output_type)\u001b[0m\n\u001b[0;32m    254\u001b[0m _sys\u001b[38;5;241m.\u001b[39maudit(\u001b[38;5;124m\"\u001b[39m\u001b[38;5;124mtempfile.mkstemp\u001b[39m\u001b[38;5;124m\"\u001b[39m, file)\n\u001b[0;32m    255\u001b[0m \u001b[38;5;28;01mtry\u001b[39;00m:\n\u001b[1;32m--> 256\u001b[0m     fd \u001b[38;5;241m=\u001b[39m \u001b[43m_os\u001b[49m\u001b[38;5;241;43m.\u001b[39;49m\u001b[43mopen\u001b[49m\u001b[43m(\u001b[49m\u001b[43mfile\u001b[49m\u001b[43m,\u001b[49m\u001b[43m \u001b[49m\u001b[43mflags\u001b[49m\u001b[43m,\u001b[49m\u001b[43m \u001b[49m\u001b[38;5;241;43m0o600\u001b[39;49m\u001b[43m)\u001b[49m\n\u001b[0;32m    257\u001b[0m \u001b[38;5;28;01mexcept\u001b[39;00m \u001b[38;5;167;01mFileExistsError\u001b[39;00m:\n\u001b[0;32m    258\u001b[0m     \u001b[38;5;28;01mcontinue\u001b[39;00m    \u001b[38;5;66;03m# try again\u001b[39;00m\n",
      "\u001b[1;31mKeyboardInterrupt\u001b[0m: "
     ]
    }
   ],
   "source": [
    "# bandwidth experiment\n",
    "res = []\n",
    "\n",
    "for dims in [2, 3, 4]: # , 5, 6, 7, 8]:\n",
    "    for n_samples in [64, 256, 1048, 4096]:\n",
    "        res_ = runtime_experiments(dims, n_samples, repeat=3)\n",
    "        res.append((dims, n_samples, res_))"
   ]
  },
  {
   "cell_type": "code",
   "execution_count": 20,
   "metadata": {},
   "outputs": [
    {
     "name": "stdout",
     "output_type": "stream",
     "text": [
      "dim: 4, n_samples: 128, repeat: 3; type: vor, average: 0.017665783564249676, std: 0.0020563065326819996, median: 0.018001556396484375\n",
      "dim: 4, n_samples: 128, repeat: 3; type: ridge, average: 0.6659837563832601, std: 0.018280624705834136, median: 0.6685163974761963\n",
      "dim: 4, n_samples: 128, repeat: 3; type: sens, average: 50.84448719024658, std: 2.723452833309136, median: 51.96826958656311\n",
      "dim: 4, n_samples: 256, repeat: 3; type: vor, average: 0.03474203745524088, std: 0.0010518751268548138, median: 0.03400087356567383\n",
      "dim: 4, n_samples: 256, repeat: 3; type: ridge, average: 1.5819531281789143, std: 0.1113786185576913, median: 1.6508851051330566\n",
      "dim: 4, n_samples: 256, repeat: 3; type: sens, average: 98.2748195330302, std: 4.437020699769642, median: 95.57184195518494\n",
      "dim: 4, n_samples: 512, repeat: 3; type: vor, average: 0.08153661092122395, std: 0.01149912282278886, median: 0.08499908447265625\n",
      "dim: 4, n_samples: 512, repeat: 3; type: ridge, average: 3.8305466175079346, std: 0.3712644063176222, median: 4.015286207199097\n",
      "dim: 4, n_samples: 512, repeat: 3; type: sens, average: 163.0324458281199, std: 21.458864847215757, median: 155.68448615074158\n",
      "dim: 4, n_samples: 1024, repeat: 3; type: vor, average: 0.16562771797180176, std: 0.021421327575082406, median: 0.15799880027770996\n",
      "dim: 4, n_samples: 1024, repeat: 3; type: ridge, average: 9.049031654993692, std: 0.4698688025054688, median: 8.749350547790527\n",
      "dim: 4, n_samples: 1024, repeat: 3; type: sens, average: 284.5646119912465, std: 6.1185018841370375, median: 287.0852642059326\n",
      "dim: 4, n_samples: 2048, repeat: 3; type: vor, average: 0.4150078296661377, std: 0.0016313818874180148, median: 0.41502833366394043\n",
      "dim: 4, n_samples: 2048, repeat: 3; type: ridge, average: 30.998408794403076, std: 1.5641252266812156, median: 31.37289571762085\n",
      "dim: 4, n_samples: 2048, repeat: 3; type: sens, average: 578.7720003128052, std: 5.576849746283643, median: 577.2418265342712\n",
      "dim: 4, n_samples: 4096, repeat: 3; type: vor, average: 0.897093137105306, std: 0.04061617273579076, median: 0.9043121337890625\n",
      "dim: 4, n_samples: 4096, repeat: 3; type: ridge, average: 91.36299991607666, std: 0.7179231895037859, median: 91.75352621078491\n",
      "dim: 4, n_samples: 4096, repeat: 3; type: sens, average: 1025.7292750676472, std: 39.81018090239255, median: 1030.5930230617523\n"
     ]
    }
   ],
   "source": [
    "# samples experiment for dim = 4\n",
    "res2 = []\n",
    "\n",
    "for dims in [4]:\n",
    "    for n_samples in [128, 256, 512, 1024, 2048, 4096]:\n",
    "        res_ = runtime_experiments(dims, n_samples, repeat=3)\n",
    "        res2.append((dims, n_samples, res_))"
   ]
  },
  {
   "cell_type": "code",
   "execution_count": 4,
   "metadata": {},
   "outputs": [
    {
     "name": "stdout",
     "output_type": "stream",
     "text": [
      "dim: 2, n_samples: 50, repeat: 1; type: vor, average: 0.001004934310913086, std: 0.0, median: 0.001004934310913086\n",
      "dim: 2, n_samples: 50, repeat: 1; type: ridge, average: 0.017889976501464844, std: 0.0, median: 0.017889976501464844\n",
      "dim: 2, n_samples: 50, repeat: 1; type: sens, average: 0.005998849868774414, std: 0.0, median: 0.005998849868774414\n",
      "dim: 3, n_samples: 50, repeat: 1; type: vor, average: 0.0020074844360351562, std: 0.0, median: 0.0020074844360351562\n",
      "dim: 3, n_samples: 50, repeat: 1; type: ridge, average: 0.07406234741210938, std: 0.0, median: 0.07406234741210938\n",
      "dim: 3, n_samples: 50, repeat: 1; type: sens, average: 2.4092800617218018, std: 0.0, median: 2.4092800617218018\n",
      "dim: 4, n_samples: 50, repeat: 1; type: vor, average: 0.003998279571533203, std: 0.0, median: 0.003998279571533203\n",
      "dim: 4, n_samples: 50, repeat: 1; type: ridge, average: 0.17338919639587402, std: 0.0, median: 0.17338919639587402\n",
      "dim: 4, n_samples: 50, repeat: 1; type: sens, average: 7.005763530731201, std: 0.0, median: 7.005763530731201\n",
      "dim: 5, n_samples: 50, repeat: 1; type: vor, average: 0.012999534606933594, std: 0.0, median: 0.012999534606933594\n",
      "dim: 5, n_samples: 50, repeat: 1; type: ridge, average: 0.5845046043395996, std: 0.0, median: 0.5845046043395996\n",
      "dim: 5, n_samples: 50, repeat: 1; type: sens, average: 27.774346828460693, std: 0.0, median: 27.774346828460693\n",
      "dim: 6, n_samples: 50, repeat: 1; type: vor, average: 0.043999433517456055, std: 0.0, median: 0.043999433517456055\n",
      "dim: 6, n_samples: 50, repeat: 1; type: ridge, average: 3.882054328918457, std: 0.0, median: 3.882054328918457\n",
      "dim: 6, n_samples: 50, repeat: 1; type: sens, average: 232.08997750282288, std: 0.0, median: 232.08997750282288\n"
     ]
    }
   ],
   "source": [
    "# dims experiment\n",
    "res_3 = []\n",
    "\n",
    "for dims in [2, 3, 4, 5, 6]:\n",
    "    for n_samples in [50]:\n",
    "        res_ = runtime_experiments(dims, n_samples, n_samples_per_dim=10, repeat=1)\n",
    "        res_3.append((dims, n_samples, res_))"
   ]
  },
  {
   "cell_type": "code",
   "execution_count": null,
   "metadata": {},
   "outputs": [],
   "source": [
    "r7 = runtime_experiments(7, 50, n_samples_per_dim=10, repeat=1)"
   ]
  },
  {
   "cell_type": "code",
   "execution_count": 7,
   "metadata": {},
   "outputs": [
    {
     "name": "stdout",
     "output_type": "stream",
     "text": [
      "dim: 4, n_samples: 128, repeat: 1; type: vor, average: 0.016024112701416016, std: 0.0, median: 0.016024112701416016\n",
      "dim: 4, n_samples: 128, repeat: 1; type: ridge, average: 0.5100059509277344, std: 0.0, median: 0.5100059509277344\n",
      "dim: 4, n_samples: 128, repeat: 1; type: sens, average: 18.44154930114746, std: 0.0, median: 18.44154930114746\n",
      "dim: 4, n_samples: 256, repeat: 1; type: vor, average: 0.031000137329101562, std: 0.0, median: 0.031000137329101562\n",
      "dim: 4, n_samples: 256, repeat: 1; type: ridge, average: 1.3239972591400146, std: 0.0, median: 1.3239972591400146\n",
      "dim: 4, n_samples: 256, repeat: 1; type: sens, average: 38.014339447021484, std: 0.0, median: 38.014339447021484\n",
      "dim: 4, n_samples: 512, repeat: 1; type: vor, average: 0.07963848114013672, std: 0.0, median: 0.07963848114013672\n",
      "dim: 4, n_samples: 512, repeat: 1; type: ridge, average: 3.8271474838256836, std: 0.0, median: 3.8271474838256836\n",
      "dim: 4, n_samples: 512, repeat: 1; type: sens, average: 73.3424425125122, std: 0.0, median: 73.3424425125122\n",
      "dim: 4, n_samples: 1024, repeat: 1; type: vor, average: 0.18999648094177246, std: 0.0, median: 0.18999648094177246\n",
      "dim: 4, n_samples: 1024, repeat: 1; type: ridge, average: 9.315975904464722, std: 0.0, median: 9.315975904464722\n",
      "dim: 4, n_samples: 1024, repeat: 1; type: sens, average: 145.70569896697998, std: 0.0, median: 145.70569896697998\n",
      "dim: 4, n_samples: 2048, repeat: 1; type: vor, average: 0.48497796058654785, std: 0.0, median: 0.48497796058654785\n",
      "dim: 4, n_samples: 2048, repeat: 1; type: ridge, average: 34.4718976020813, std: 0.0, median: 34.4718976020813\n",
      "dim: 4, n_samples: 2048, repeat: 1; type: sens, average: 302.3542275428772, std: 0.0, median: 302.3542275428772\n",
      "dim: 4, n_samples: 4096, repeat: 1; type: vor, average: 0.8320348262786865, std: 0.0, median: 0.8320348262786865\n",
      "dim: 4, n_samples: 4096, repeat: 1; type: ridge, average: 88.82764291763306, std: 0.0, median: 88.82764291763306\n",
      "dim: 4, n_samples: 4096, repeat: 1; type: sens, average: 576.8869678974152, std: 0.0, median: 576.8869678974152\n"
     ]
    }
   ],
   "source": [
    "# samples experiment for dim = 4\n",
    "res = []\n",
    "\n",
    "for dims in [4]:\n",
    "    for n_samples in [128, 256, 512, 1024, 2048, 4096]:\n",
    "        res_ = runtime_experiments(dims, n_samples, n_samples_per_dim=10, repeat=1)\n",
    "        res.append((dims, n_samples, res_))"
   ]
  },
  {
   "cell_type": "code",
   "execution_count": 9,
   "metadata": {},
   "outputs": [
    {
     "data": {
      "text/plain": [
       "[(2, 50, array([[0.00100493, 0.01788998, 0.00599885]])),\n",
       " (3, 50, array([[2.00748444e-03, 7.40623474e-02, 2.40928006e+00]])),\n",
       " (4, 50, array([[3.99827957e-03, 1.73389196e-01, 7.00576353e+00]])),\n",
       " (5, 50, array([[1.29995346e-02, 5.84504604e-01, 2.77743468e+01]])),\n",
       " (6, 50, array([[4.39994335e-02, 3.88205433e+00, 2.32089978e+02]]))]"
      ]
     },
     "execution_count": 9,
     "metadata": {},
     "output_type": "execute_result"
    }
   ],
   "source": [
    "res_3"
   ]
  },
  {
   "cell_type": "code",
   "execution_count": 8,
   "metadata": {},
   "outputs": [],
   "source": [
    "import pickle\n",
    "with open(\"tmp_runtime_experiments_res_and_res3.pkl\", \"wb\") as f:\n",
    "    pickle.dump((res, res_3), f)"
   ]
  },
  {
   "cell_type": "code",
   "execution_count": 12,
   "metadata": {},
   "outputs": [
    {
     "name": "stderr",
     "output_type": "stream",
     "text": [
      "C:\\Users\\bauerrn\\AppData\\Local\\Temp\\ipykernel_31248\\589133409.py:25: UserWarning: FigureCanvasAgg is non-interactive, and thus cannot be shown\n",
      "  fig.show()\n"
     ]
    },
    {
     "data": {
      "image/png": "[encoded data removed]",
      "text/plain": [
       "<Figure size 400x200 with 1 Axes>"
      ]
     },
     "metadata": {},
     "output_type": "display_data"
    }
   ],
   "source": [
    "# by dimensionality\n",
    "fig = plt.figure(figsize=(4, 2))\n",
    "ax = fig.gca()\n",
    "\n",
    "x = [r[1] for r in res]\n",
    "# bws = 1 / np.array(x)\n",
    "\n",
    "ys = np.stack([r[2][0] for r in res])\n",
    "avgs = np.average(ys, 1)\n",
    "mds = np.median(ys, 1)\n",
    "stds = np.std(ys, 1)\n",
    "\n",
    "ax.plot(x, avgs, linewidth=1)\n",
    "ax.scatter(x, avgs, s=2**4)\n",
    "# ax.scatter(x, mds, s=2**4, marker=\"x\")\n",
    "# ax.errorbar(x, avgs, yerr=stds, fmt='none')\n",
    "\n",
    "\n",
    "ax.set_xlabel(r\"n samples\")\n",
    "ax.set_ylabel(\"runtime in seconds [s]\")\n",
    "\n",
    "ax.set_title(\"runtime per n (random) samples (2 labels)\")\n",
    "\n",
    "fig.tight_layout()\n",
    "fig.show()\n",
    "fig.savefig(\"n_samples_experiments.pdf\")"
   ]
  },
  {
   "cell_type": "code",
   "execution_count": 13,
   "metadata": {},
   "outputs": [
    {
     "data": {
      "text/plain": [
       "[(2, 50, array([[0.00100493, 0.01788998, 0.00599885]])),\n",
       " (3, 50, array([[2.00748444e-03, 7.40623474e-02, 2.40928006e+00]])),\n",
       " (4, 50, array([[3.99827957e-03, 1.73389196e-01, 7.00576353e+00]])),\n",
       " (5, 50, array([[1.29995346e-02, 5.84504604e-01, 2.77743468e+01]])),\n",
       " (6, 50, array([[4.39994335e-02, 3.88205433e+00, 2.32089978e+02]]))]"
      ]
     },
     "execution_count": 13,
     "metadata": {},
     "output_type": "execute_result"
    }
   ],
   "source": [
    "res_3"
   ]
  },
  {
   "cell_type": "code",
   "execution_count": 15,
   "metadata": {},
   "outputs": [
    {
     "name": "stderr",
     "output_type": "stream",
     "text": [
      "C:\\Users\\bauerrn\\AppData\\Local\\Temp\\ipykernel_31248\\2301415504.py:25: UserWarning: FigureCanvasAgg is non-interactive, and thus cannot be shown\n",
      "  fig.show()\n"
     ]
    },
    {
     "data": {
      "image/png": "[encoded data removed]",
      "text/plain": [
       "<Figure size 400x200 with 1 Axes>"
      ]
     },
     "metadata": {},
     "output_type": "display_data"
    }
   ],
   "source": [
    "# by dimensionality\n",
    "fig = plt.figure(figsize=(4, 2))\n",
    "ax = fig.gca()\n",
    "\n",
    "x = [r[0] for r in res_3]\n",
    "# bws = 1 / np.array(x)\n",
    "\n",
    "ys = np.stack([r[2][0] for r in res_3])\n",
    "avgs = np.average(ys, 1)\n",
    "mds = np.median(ys, 1)\n",
    "stds = np.std(ys, 1)\n",
    "\n",
    "ax.plot(x, avgs, linewidth=1)\n",
    "ax.scatter(x, avgs, s=2**4)\n",
    "# ax.scatter(x, mds, s=2**4, marker=\"x\")\n",
    "# ax.errorbar(x, avgs, yerr=stds, fmt='none')\n",
    "\n",
    "\n",
    "ax.set_xlabel(r\"dimensionality\")\n",
    "ax.set_ylabel(\"runtime in seconds [s]\")\n",
    "\n",
    "ax.set_title(\"runtime per dimensionality\")\n",
    "\n",
    "fig.tight_layout()\n",
    "fig.show()\n",
    "fig.savefig(\"n_dim_experiments.pdf\")"
   ]
  },
  {
   "cell_type": "code",
   "execution_count": null,
   "metadata": {},
   "outputs": [],
   "source": []
  }
 ],
 "metadata": {
  "kernelspec": {
   "display_name": ".venv",
   "language": "python",
   "name": "python3"
  },
  "language_info": {
   "codemirror_mode": {
    "name": "ipython",
    "version": 3
   },
   "file_extension": ".py",
   "mimetype": "text/x-python",
   "name": "python",
   "nbconvert_exporter": "python",
   "pygments_lexer": "ipython3",
   "version": "3.12.3"
  }
 },
 "nbformat": 4,
 "nbformat_minor": 2
}
